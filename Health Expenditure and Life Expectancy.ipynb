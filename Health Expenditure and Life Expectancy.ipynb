{
 "cells": [
  {
   "cell_type": "code",
   "execution_count": 1,
   "metadata": {},
   "outputs": [],
   "source": [
    "import pandas as pd\n",
    "import matplotlib.pyplot as plt\n",
    "from scipy.stats import linregress"
   ]
  },
  {
   "cell_type": "code",
   "execution_count": 2,
   "metadata": {},
   "outputs": [],
   "source": [
    "happiness2015 = pd.read_csv(\"happiness2015.csv\")\n",
    "happiness2016 = pd.read_csv(\"happiness2016.csv\")\n",
    "happiness2017 = pd.read_csv(\"happiness2017.csv\")\n",
    "happiness2018 = pd.read_csv(\"happiness2018.csv\")\n",
    "happiness2019 = pd.read_csv(\"happiness2019.csv\")\n",
    "health2016 = pd.read_csv(\"health_expenditure2016.csv\")"
   ]
  },
  {
   "cell_type": "code",
   "execution_count": 3,
   "metadata": {},
   "outputs": [],
   "source": [
    "happiness20156 = pd.merge(happiness2015, happiness2016, on = \"Country\", how = \"outer\", suffixes = (\" 2015\", \" 2016\"))\n",
    "happiness20178 = pd.merge(happiness2017, happiness2018, on = \"Country\", how = \"outer\", suffixes = (\" 2017\", \" 2018\"))\n",
    "happiness = pd.merge(happiness20156, happiness20178, on = \"Country\", how = \"outer\")\n",
    "happiness2019\n",
    "happiness = pd.merge(happiness, happiness2019, on = \"Country\", how = \"outer\")\n",
    "happiness = happiness.rename(columns={\"Happiness Score\":\"Happiness Score 2019\"})"
   ]
  },
  {
   "cell_type": "code",
   "execution_count": 4,
   "metadata": {},
   "outputs": [
    {
     "data": {
      "text/html": [
       "<div>\n",
       "<style scoped>\n",
       "    .dataframe tbody tr th:only-of-type {\n",
       "        vertical-align: middle;\n",
       "    }\n",
       "\n",
       "    .dataframe tbody tr th {\n",
       "        vertical-align: top;\n",
       "    }\n",
       "\n",
       "    .dataframe thead th {\n",
       "        text-align: right;\n",
       "    }\n",
       "</style>\n",
       "<table border=\"1\" class=\"dataframe\">\n",
       "  <thead>\n",
       "    <tr style=\"text-align: right;\">\n",
       "      <th></th>\n",
       "      <th>Country</th>\n",
       "      <th>Happiness Score</th>\n",
       "      <th>Percent Health Expenditure of GDP</th>\n",
       "      <th>Health Expenditure Per capita USD 2016</th>\n",
       "    </tr>\n",
       "  </thead>\n",
       "  <tbody>\n",
       "    <tr>\n",
       "      <th>0</th>\n",
       "      <td>Denmark</td>\n",
       "      <td>7.526</td>\n",
       "      <td>13.7</td>\n",
       "      <td>5565.6</td>\n",
       "    </tr>\n",
       "    <tr>\n",
       "      <th>3</th>\n",
       "      <td>Switzerland</td>\n",
       "      <td>7.509</td>\n",
       "      <td>29.6</td>\n",
       "      <td>9836.0</td>\n",
       "    </tr>\n",
       "    <tr>\n",
       "      <th>4</th>\n",
       "      <td>Iceland</td>\n",
       "      <td>7.501</td>\n",
       "      <td>16.9</td>\n",
       "      <td>5063.6</td>\n",
       "    </tr>\n",
       "    <tr>\n",
       "      <th>5</th>\n",
       "      <td>Norway</td>\n",
       "      <td>7.498</td>\n",
       "      <td>14.5</td>\n",
       "      <td>7477.9</td>\n",
       "    </tr>\n",
       "    <tr>\n",
       "      <th>6</th>\n",
       "      <td>Finland</td>\n",
       "      <td>7.413</td>\n",
       "      <td>20.4</td>\n",
       "      <td>4117.3</td>\n",
       "    </tr>\n",
       "    <tr>\n",
       "      <th>...</th>\n",
       "      <td>...</td>\n",
       "      <td>...</td>\n",
       "      <td>...</td>\n",
       "      <td>...</td>\n",
       "    </tr>\n",
       "    <tr>\n",
       "      <th>143</th>\n",
       "      <td>Rwanda</td>\n",
       "      <td>3.515</td>\n",
       "      <td>6.4</td>\n",
       "      <td>48.1</td>\n",
       "    </tr>\n",
       "    <tr>\n",
       "      <th>144</th>\n",
       "      <td>Benin</td>\n",
       "      <td>3.484</td>\n",
       "      <td>43.5</td>\n",
       "      <td>30.4</td>\n",
       "    </tr>\n",
       "    <tr>\n",
       "      <th>145</th>\n",
       "      <td>Afghanistan</td>\n",
       "      <td>3.360</td>\n",
       "      <td>77.4</td>\n",
       "      <td>57.2</td>\n",
       "    </tr>\n",
       "    <tr>\n",
       "      <th>146</th>\n",
       "      <td>Togo</td>\n",
       "      <td>3.303</td>\n",
       "      <td>50.4</td>\n",
       "      <td>38.8</td>\n",
       "    </tr>\n",
       "    <tr>\n",
       "      <th>148</th>\n",
       "      <td>Burundi</td>\n",
       "      <td>2.905</td>\n",
       "      <td>30.5</td>\n",
       "      <td>18.5</td>\n",
       "    </tr>\n",
       "  </tbody>\n",
       "</table>\n",
       "<p>135 rows × 4 columns</p>\n",
       "</div>"
      ],
      "text/plain": [
       "         Country  Happiness Score  Percent Health Expenditure of GDP  \\\n",
       "0        Denmark            7.526                               13.7   \n",
       "3    Switzerland            7.509                               29.6   \n",
       "4        Iceland            7.501                               16.9   \n",
       "5         Norway            7.498                               14.5   \n",
       "6        Finland            7.413                               20.4   \n",
       "..           ...              ...                                ...   \n",
       "143       Rwanda            3.515                                6.4   \n",
       "144        Benin            3.484                               43.5   \n",
       "145  Afghanistan            3.360                               77.4   \n",
       "146         Togo            3.303                               50.4   \n",
       "148      Burundi            2.905                               30.5   \n",
       "\n",
       "     Health Expenditure Per capita USD 2016  \n",
       "0                                    5565.6  \n",
       "3                                    9836.0  \n",
       "4                                    5063.6  \n",
       "5                                    7477.9  \n",
       "6                                    4117.3  \n",
       "..                                      ...  \n",
       "143                                    48.1  \n",
       "144                                    30.4  \n",
       "145                                    57.2  \n",
       "146                                    38.8  \n",
       "148                                    18.5  \n",
       "\n",
       "[135 rows x 4 columns]"
      ]
     },
     "execution_count": 4,
     "metadata": {},
     "output_type": "execute_result"
    }
   ],
   "source": [
    "happ_health2016 = pd.merge(happiness2016, health2016, on = \"Country\", how = \"inner\")\n",
    "happ_health2016 = happ_health2016.dropna()\n",
    "happ_health2016"
   ]
  },
  {
   "cell_type": "markdown",
   "metadata": {},
   "source": [
    "# Percent Health Expenditure of GDP on Happiness"
   ]
  },
  {
   "cell_type": "code",
   "execution_count": 5,
   "metadata": {},
   "outputs": [
    {
     "name": "stdout",
     "output_type": "stream",
     "text": [
      "The r-square is: 0.2517423267796409\n"
     ]
    },
    {
     "data": {
      "image/png": "[encoded data removed]",
      "text/plain": [
       "<Figure size 432x288 with 1 Axes>"
      ]
     },
     "metadata": {
      "needs_background": "light"
     },
     "output_type": "display_data"
    }
   ],
   "source": [
    "##Hppiness Score on x-axis\n",
    "x_values = happ_health2016.iloc[:,1]\n",
    "y_values = happ_health2016.iloc[:,2]\n",
    "(slope, intercept, rvalue, pvalue, stderr) = linregress(x_values, y_values)\n",
    "regress_values = x_values * slope + intercept\n",
    "line_eq = \"y = \" + str(round(slope,2)) + \"x + \" + str(round(intercept,2))\n",
    "plt.scatter(x_values,y_values)\n",
    "plt.plot(x_values,regress_values,\"r-\")\n",
    "#plt.annotate(line_eq,(6,10),fontsize=15,color=\"red\")\n",
    "plt.xlabel('Happiness Score')\n",
    "plt.ylabel('Percent Health Expenditure of GDP')\n",
    "plt.title('2016 Percent Health Expenditure of GDP on Happiness')\n",
    "print(f\"The r-square is: {rvalue**2}\")\n",
    "plt.show()"
   ]
  },
  {
   "cell_type": "code",
   "execution_count": 6,
   "metadata": {},
   "outputs": [
    {
     "name": "stdout",
     "output_type": "stream",
     "text": [
      "The r-square is: 0.2517423267796409\n"
     ]
    },
    {
     "data": {
      "image/png": "[encoded data removed]",
      "text/plain": [
       "<Figure size 432x288 with 1 Axes>"
      ]
     },
     "metadata": {
      "needs_background": "light"
     },
     "output_type": "display_data"
    }
   ],
   "source": [
    "##Hppiness Score on y-axis\n",
    "x_values = happ_health2016.iloc[:,2]\n",
    "y_values = happ_health2016.iloc[:,1]\n",
    "(slope, intercept, rvalue, pvalue, stderr) = linregress(x_values, y_values)\n",
    "regress_values = x_values * slope + intercept\n",
    "line_eq = \"y = \" + str(round(slope,2)) + \"x + \" + str(round(intercept,2))\n",
    "plt.scatter(x_values,y_values)\n",
    "plt.plot(x_values,regress_values,\"r-\")\n",
    "#plt.annotate(line_eq,(6,10),fontsize=15,color=\"red\")\n",
    "plt.xlabel('Percent Health Expenditure of GDP')\n",
    "plt.ylabel('Happiness Score')\n",
    "plt.title('2016 Percent Health Expenditure of GDP on Happiness')\n",
    "print(f\"The r-square is: {rvalue**2}\")\n",
    "plt.show()"
   ]
  },
  {
   "cell_type": "markdown",
   "metadata": {},
   "source": [
    "# Health Expenditure Per capita USD on Happiness"
   ]
  },
  {
   "cell_type": "code",
   "execution_count": 7,
   "metadata": {
    "scrolled": true
   },
   "outputs": [
    {
     "name": "stdout",
     "output_type": "stream",
     "text": [
      "The r-square is: 0.4887010012218469\n"
     ]
    },
    {
     "data": {
      "image/png": "[encoded data removed]",
      "text/plain": [
       "<Figure size 432x288 with 1 Axes>"
      ]
     },
     "metadata": {
      "needs_background": "light"
     },
     "output_type": "display_data"
    }
   ],
   "source": [
    "##Hppiness Score on y-axis\n",
    "x_values = happ_health2016.iloc[:,1]\n",
    "y_values = happ_health2016.iloc[:,3]\n",
    "(slope, intercept, rvalue, pvalue, stderr) = linregress(x_values, y_values)\n",
    "regress_values = x_values * slope + intercept\n",
    "line_eq = \"y = \" + str(round(slope,2)) + \"x + \" + str(round(intercept,2))\n",
    "plt.scatter(x_values,y_values)\n",
    "plt.plot(x_values,regress_values,\"r-\")\n",
    "#plt.annotate(line_eq,(6,10),fontsize=15,color=\"red\")\n",
    "plt.xlabel('Happiness Score')\n",
    "plt.ylabel('Health Expenditure Per capita USD 2016')\n",
    "plt.title('2016 Health Expenditure Per capita USD 2016 on Happiness')\n",
    "print(f\"The r-square is: {rvalue**2}\")\n",
    "plt.show()"
   ]
  },
  {
   "cell_type": "code",
   "execution_count": 8,
   "metadata": {},
   "outputs": [
    {
     "name": "stdout",
     "output_type": "stream",
     "text": [
      "The r-square is: 0.4887010012218469\n",
      "rvalue is 0.6990715279725294\n"
     ]
    },
    {
     "data": {
      "image/png": "[encoded data removed]",
      "text/plain": [
       "<Figure size 432x288 with 1 Axes>"
      ]
     },
     "metadata": {
      "needs_background": "light"
     },
     "output_type": "display_data"
    }
   ],
   "source": [
    "##Hppiness Score on y-axis\n",
    "x_values = happ_health2016.iloc[:,3]\n",
    "y_values = happ_health2016.iloc[:,1]\n",
    "(slope, intercept, rvalue, pvalue, stderr) = linregress(x_values, y_values)\n",
    "regress_values = x_values * slope + intercept\n",
    "line_eq = \"y = \" + str(round(slope,2)) + \"x + \" + str(round(intercept,2))\n",
    "plt.scatter(x_values,y_values)\n",
    "plt.plot(x_values,regress_values,\"r-\")\n",
    "rval = \"R value: \" + str(round(rvalue,2))\n",
    "plt.annotate(rval, xy=(8000,3),fontsize=10)\n",
    "plt.annotate(line_eq,(6,10),fontsize=15,color=\"red\")\n",
    "plt.xlabel('Health Expenditure Per capita (USD)')\n",
    "plt.ylabel('Happiness Score')\n",
    "plt.title('2016 Health Expenditure Per capita on Happiness')\n",
    "print(f\"The r-square is: {rvalue**2}\")\n",
    "print(f\"rvalue is {rvalue}\")\n",
    "plt.show()"
   ]
  },
  {
   "cell_type": "markdown",
   "metadata": {},
   "source": [
    "# Life Expectancy on Happiness"
   ]
  },
  {
   "cell_type": "code",
   "execution_count": 9,
   "metadata": {},
   "outputs": [
    {
     "data": {
      "text/html": [
       "<div>\n",
       "<style scoped>\n",
       "    .dataframe tbody tr th:only-of-type {\n",
       "        vertical-align: middle;\n",
       "    }\n",
       "\n",
       "    .dataframe tbody tr th {\n",
       "        vertical-align: top;\n",
       "    }\n",
       "\n",
       "    .dataframe thead th {\n",
       "        text-align: right;\n",
       "    }\n",
       "</style>\n",
       "<table border=\"1\" class=\"dataframe\">\n",
       "  <thead>\n",
       "    <tr style=\"text-align: right;\">\n",
       "      <th></th>\n",
       "      <th>Country</th>\n",
       "      <th>Happiness Score 2015</th>\n",
       "      <th>Happiness Score 2016</th>\n",
       "      <th>Happiness Score 2017</th>\n",
       "      <th>Happiness Score 2018</th>\n",
       "    </tr>\n",
       "  </thead>\n",
       "  <tbody>\n",
       "    <tr>\n",
       "      <th>0</th>\n",
       "      <td>Switzerland</td>\n",
       "      <td>7.587</td>\n",
       "      <td>7.509</td>\n",
       "      <td>7.494</td>\n",
       "      <td>7.487</td>\n",
       "    </tr>\n",
       "    <tr>\n",
       "      <th>1</th>\n",
       "      <td>Iceland</td>\n",
       "      <td>7.561</td>\n",
       "      <td>7.501</td>\n",
       "      <td>7.504</td>\n",
       "      <td>7.495</td>\n",
       "    </tr>\n",
       "    <tr>\n",
       "      <th>2</th>\n",
       "      <td>Denmark</td>\n",
       "      <td>7.527</td>\n",
       "      <td>7.526</td>\n",
       "      <td>7.522</td>\n",
       "      <td>7.555</td>\n",
       "    </tr>\n",
       "    <tr>\n",
       "      <th>3</th>\n",
       "      <td>Norway</td>\n",
       "      <td>7.522</td>\n",
       "      <td>7.498</td>\n",
       "      <td>7.537</td>\n",
       "      <td>7.594</td>\n",
       "    </tr>\n",
       "    <tr>\n",
       "      <th>4</th>\n",
       "      <td>Canada</td>\n",
       "      <td>7.427</td>\n",
       "      <td>7.404</td>\n",
       "      <td>7.316</td>\n",
       "      <td>7.328</td>\n",
       "    </tr>\n",
       "    <tr>\n",
       "      <th>...</th>\n",
       "      <td>...</td>\n",
       "      <td>...</td>\n",
       "      <td>...</td>\n",
       "      <td>...</td>\n",
       "      <td>...</td>\n",
       "    </tr>\n",
       "    <tr>\n",
       "      <th>165</th>\n",
       "      <td>Hong Kong S.A.R., China</td>\n",
       "      <td>NaN</td>\n",
       "      <td>NaN</td>\n",
       "      <td>5.472</td>\n",
       "      <td>NaN</td>\n",
       "    </tr>\n",
       "    <tr>\n",
       "      <th>166</th>\n",
       "      <td>Trinidad &amp; Tobago</td>\n",
       "      <td>NaN</td>\n",
       "      <td>NaN</td>\n",
       "      <td>NaN</td>\n",
       "      <td>6.192</td>\n",
       "    </tr>\n",
       "    <tr>\n",
       "      <th>167</th>\n",
       "      <td>Northern Cyprus</td>\n",
       "      <td>NaN</td>\n",
       "      <td>NaN</td>\n",
       "      <td>NaN</td>\n",
       "      <td>5.835</td>\n",
       "    </tr>\n",
       "    <tr>\n",
       "      <th>168</th>\n",
       "      <td>North Macedonia</td>\n",
       "      <td>NaN</td>\n",
       "      <td>NaN</td>\n",
       "      <td>NaN</td>\n",
       "      <td>NaN</td>\n",
       "    </tr>\n",
       "    <tr>\n",
       "      <th>169</th>\n",
       "      <td>Gambia</td>\n",
       "      <td>NaN</td>\n",
       "      <td>NaN</td>\n",
       "      <td>NaN</td>\n",
       "      <td>NaN</td>\n",
       "    </tr>\n",
       "  </tbody>\n",
       "</table>\n",
       "<p>170 rows × 5 columns</p>\n",
       "</div>"
      ],
      "text/plain": [
       "                     Country  Happiness Score 2015  Happiness Score 2016  \\\n",
       "0                Switzerland                 7.587                 7.509   \n",
       "1                    Iceland                 7.561                 7.501   \n",
       "2                    Denmark                 7.527                 7.526   \n",
       "3                     Norway                 7.522                 7.498   \n",
       "4                     Canada                 7.427                 7.404   \n",
       "..                       ...                   ...                   ...   \n",
       "165  Hong Kong S.A.R., China                   NaN                   NaN   \n",
       "166        Trinidad & Tobago                   NaN                   NaN   \n",
       "167          Northern Cyprus                   NaN                   NaN   \n",
       "168          North Macedonia                   NaN                   NaN   \n",
       "169                   Gambia                   NaN                   NaN   \n",
       "\n",
       "     Happiness Score 2017  Happiness Score 2018  \n",
       "0                   7.494                 7.487  \n",
       "1                   7.504                 7.495  \n",
       "2                   7.522                 7.555  \n",
       "3                   7.537                 7.594  \n",
       "4                   7.316                 7.328  \n",
       "..                    ...                   ...  \n",
       "165                 5.472                   NaN  \n",
       "166                   NaN                 6.192  \n",
       "167                   NaN                 5.835  \n",
       "168                   NaN                   NaN  \n",
       "169                   NaN                   NaN  \n",
       "\n",
       "[170 rows x 5 columns]"
      ]
     },
     "execution_count": 9,
     "metadata": {},
     "output_type": "execute_result"
    }
   ],
   "source": [
    "happiness20158 = happiness[[\"Country\",\"Happiness Score 2015\",\"Happiness Score 2016\",\"Happiness Score 2017\",\"Happiness Score 2018\"]]\n",
    "happiness20158"
   ]
  },
  {
   "cell_type": "code",
   "execution_count": 10,
   "metadata": {},
   "outputs": [
    {
     "data": {
      "text/html": [
       "<div>\n",
       "<style scoped>\n",
       "    .dataframe tbody tr th:only-of-type {\n",
       "        vertical-align: middle;\n",
       "    }\n",
       "\n",
       "    .dataframe tbody tr th {\n",
       "        vertical-align: top;\n",
       "    }\n",
       "\n",
       "    .dataframe thead th {\n",
       "        text-align: right;\n",
       "    }\n",
       "</style>\n",
       "<table border=\"1\" class=\"dataframe\">\n",
       "  <thead>\n",
       "    <tr style=\"text-align: right;\">\n",
       "      <th></th>\n",
       "      <th>Country</th>\n",
       "      <th>2015</th>\n",
       "      <th>2016</th>\n",
       "      <th>2017</th>\n",
       "      <th>2018</th>\n",
       "    </tr>\n",
       "  </thead>\n",
       "  <tbody>\n",
       "    <tr>\n",
       "      <th>0</th>\n",
       "      <td>Aruba</td>\n",
       "      <td>75.725000</td>\n",
       "      <td>75.868000</td>\n",
       "      <td>76.010000</td>\n",
       "      <td>76.152000</td>\n",
       "    </tr>\n",
       "    <tr>\n",
       "      <th>1</th>\n",
       "      <td>Afghanistan</td>\n",
       "      <td>63.377000</td>\n",
       "      <td>63.763000</td>\n",
       "      <td>64.130000</td>\n",
       "      <td>64.486000</td>\n",
       "    </tr>\n",
       "    <tr>\n",
       "      <th>2</th>\n",
       "      <td>Angola</td>\n",
       "      <td>59.398000</td>\n",
       "      <td>59.925000</td>\n",
       "      <td>60.379000</td>\n",
       "      <td>60.782000</td>\n",
       "    </tr>\n",
       "    <tr>\n",
       "      <th>3</th>\n",
       "      <td>Albania</td>\n",
       "      <td>78.025000</td>\n",
       "      <td>78.194000</td>\n",
       "      <td>78.333000</td>\n",
       "      <td>78.458000</td>\n",
       "    </tr>\n",
       "    <tr>\n",
       "      <th>4</th>\n",
       "      <td>Andorra</td>\n",
       "      <td>NaN</td>\n",
       "      <td>NaN</td>\n",
       "      <td>NaN</td>\n",
       "      <td>NaN</td>\n",
       "    </tr>\n",
       "    <tr>\n",
       "      <th>...</th>\n",
       "      <td>...</td>\n",
       "      <td>...</td>\n",
       "      <td>...</td>\n",
       "      <td>...</td>\n",
       "      <td>...</td>\n",
       "    </tr>\n",
       "    <tr>\n",
       "      <th>259</th>\n",
       "      <td>Kosovo</td>\n",
       "      <td>71.346341</td>\n",
       "      <td>71.646341</td>\n",
       "      <td>71.946341</td>\n",
       "      <td>72.195122</td>\n",
       "    </tr>\n",
       "    <tr>\n",
       "      <th>260</th>\n",
       "      <td>Yemen, Rep.</td>\n",
       "      <td>66.085000</td>\n",
       "      <td>66.087000</td>\n",
       "      <td>66.086000</td>\n",
       "      <td>66.096000</td>\n",
       "    </tr>\n",
       "    <tr>\n",
       "      <th>261</th>\n",
       "      <td>South Africa</td>\n",
       "      <td>62.649000</td>\n",
       "      <td>63.153000</td>\n",
       "      <td>63.538000</td>\n",
       "      <td>63.857000</td>\n",
       "    </tr>\n",
       "    <tr>\n",
       "      <th>262</th>\n",
       "      <td>Zambia</td>\n",
       "      <td>61.737000</td>\n",
       "      <td>62.464000</td>\n",
       "      <td>63.043000</td>\n",
       "      <td>63.510000</td>\n",
       "    </tr>\n",
       "    <tr>\n",
       "      <th>263</th>\n",
       "      <td>Zimbabwe</td>\n",
       "      <td>59.534000</td>\n",
       "      <td>60.294000</td>\n",
       "      <td>60.812000</td>\n",
       "      <td>61.195000</td>\n",
       "    </tr>\n",
       "  </tbody>\n",
       "</table>\n",
       "<p>264 rows × 5 columns</p>\n",
       "</div>"
      ],
      "text/plain": [
       "          Country       2015       2016       2017       2018\n",
       "0           Aruba  75.725000  75.868000  76.010000  76.152000\n",
       "1     Afghanistan  63.377000  63.763000  64.130000  64.486000\n",
       "2          Angola  59.398000  59.925000  60.379000  60.782000\n",
       "3         Albania  78.025000  78.194000  78.333000  78.458000\n",
       "4         Andorra        NaN        NaN        NaN        NaN\n",
       "..            ...        ...        ...        ...        ...\n",
       "259        Kosovo  71.346341  71.646341  71.946341  72.195122\n",
       "260   Yemen, Rep.  66.085000  66.087000  66.086000  66.096000\n",
       "261  South Africa  62.649000  63.153000  63.538000  63.857000\n",
       "262        Zambia  61.737000  62.464000  63.043000  63.510000\n",
       "263      Zimbabwe  59.534000  60.294000  60.812000  61.195000\n",
       "\n",
       "[264 rows x 5 columns]"
      ]
     },
     "execution_count": 10,
     "metadata": {},
     "output_type": "execute_result"
    }
   ],
   "source": [
    "life2018 = pd.read_csv(\"life_expectancy2018.csv\")\n",
    "life2018 = life2018.rename(columns={\"Country Name\":\"Country\"})\n",
    "life2018"
   ]
  },
  {
   "cell_type": "code",
   "execution_count": 11,
   "metadata": {},
   "outputs": [
    {
     "data": {
      "text/html": [
       "<div>\n",
       "<style scoped>\n",
       "    .dataframe tbody tr th:only-of-type {\n",
       "        vertical-align: middle;\n",
       "    }\n",
       "\n",
       "    .dataframe tbody tr th {\n",
       "        vertical-align: top;\n",
       "    }\n",
       "\n",
       "    .dataframe thead th {\n",
       "        text-align: right;\n",
       "    }\n",
       "</style>\n",
       "<table border=\"1\" class=\"dataframe\">\n",
       "  <thead>\n",
       "    <tr style=\"text-align: right;\">\n",
       "      <th></th>\n",
       "      <th>Country</th>\n",
       "      <th>Happiness Score 2015</th>\n",
       "      <th>Happiness Score 2016</th>\n",
       "      <th>Happiness Score 2017</th>\n",
       "      <th>Happiness Score 2018</th>\n",
       "      <th>Life Expectancy 2015</th>\n",
       "      <th>Life Expectancy 2016</th>\n",
       "      <th>Life Expectancy 2017</th>\n",
       "      <th>Life Expectancy 2018</th>\n",
       "    </tr>\n",
       "  </thead>\n",
       "  <tbody>\n",
       "    <tr>\n",
       "      <th>0</th>\n",
       "      <td>Switzerland</td>\n",
       "      <td>7.587</td>\n",
       "      <td>7.509</td>\n",
       "      <td>7.494</td>\n",
       "      <td>7.487</td>\n",
       "      <td>82.897561</td>\n",
       "      <td>83.602439</td>\n",
       "      <td>83.551220</td>\n",
       "      <td>83.753659</td>\n",
       "    </tr>\n",
       "    <tr>\n",
       "      <th>1</th>\n",
       "      <td>Iceland</td>\n",
       "      <td>7.561</td>\n",
       "      <td>7.501</td>\n",
       "      <td>7.504</td>\n",
       "      <td>7.495</td>\n",
       "      <td>82.468293</td>\n",
       "      <td>82.204878</td>\n",
       "      <td>82.660976</td>\n",
       "      <td>82.860976</td>\n",
       "    </tr>\n",
       "    <tr>\n",
       "      <th>2</th>\n",
       "      <td>Denmark</td>\n",
       "      <td>7.527</td>\n",
       "      <td>7.526</td>\n",
       "      <td>7.522</td>\n",
       "      <td>7.555</td>\n",
       "      <td>80.702439</td>\n",
       "      <td>80.853659</td>\n",
       "      <td>81.102439</td>\n",
       "      <td>80.953659</td>\n",
       "    </tr>\n",
       "    <tr>\n",
       "      <th>3</th>\n",
       "      <td>Norway</td>\n",
       "      <td>7.522</td>\n",
       "      <td>7.498</td>\n",
       "      <td>7.537</td>\n",
       "      <td>7.594</td>\n",
       "      <td>82.304878</td>\n",
       "      <td>82.407317</td>\n",
       "      <td>82.609756</td>\n",
       "      <td>82.758537</td>\n",
       "    </tr>\n",
       "    <tr>\n",
       "      <th>4</th>\n",
       "      <td>Canada</td>\n",
       "      <td>7.427</td>\n",
       "      <td>7.404</td>\n",
       "      <td>7.316</td>\n",
       "      <td>7.328</td>\n",
       "      <td>81.900000</td>\n",
       "      <td>81.900000</td>\n",
       "      <td>81.948780</td>\n",
       "      <td>81.948780</td>\n",
       "    </tr>\n",
       "    <tr>\n",
       "      <th>...</th>\n",
       "      <td>...</td>\n",
       "      <td>...</td>\n",
       "      <td>...</td>\n",
       "      <td>...</td>\n",
       "      <td>...</td>\n",
       "      <td>...</td>\n",
       "      <td>...</td>\n",
       "      <td>...</td>\n",
       "      <td>...</td>\n",
       "    </tr>\n",
       "    <tr>\n",
       "      <th>133</th>\n",
       "      <td>Afghanistan</td>\n",
       "      <td>3.575</td>\n",
       "      <td>3.360</td>\n",
       "      <td>3.794</td>\n",
       "      <td>3.632</td>\n",
       "      <td>63.377000</td>\n",
       "      <td>63.763000</td>\n",
       "      <td>64.130000</td>\n",
       "      <td>64.486000</td>\n",
       "    </tr>\n",
       "    <tr>\n",
       "      <th>134</th>\n",
       "      <td>Rwanda</td>\n",
       "      <td>3.465</td>\n",
       "      <td>3.515</td>\n",
       "      <td>3.471</td>\n",
       "      <td>3.408</td>\n",
       "      <td>67.450000</td>\n",
       "      <td>67.930000</td>\n",
       "      <td>68.341000</td>\n",
       "      <td>68.700000</td>\n",
       "    </tr>\n",
       "    <tr>\n",
       "      <th>135</th>\n",
       "      <td>Benin</td>\n",
       "      <td>3.340</td>\n",
       "      <td>3.484</td>\n",
       "      <td>3.657</td>\n",
       "      <td>4.141</td>\n",
       "      <td>60.608000</td>\n",
       "      <td>60.885000</td>\n",
       "      <td>61.174000</td>\n",
       "      <td>61.470000</td>\n",
       "    </tr>\n",
       "    <tr>\n",
       "      <th>136</th>\n",
       "      <td>Burundi</td>\n",
       "      <td>2.905</td>\n",
       "      <td>2.905</td>\n",
       "      <td>2.905</td>\n",
       "      <td>2.905</td>\n",
       "      <td>60.123000</td>\n",
       "      <td>60.528000</td>\n",
       "      <td>60.898000</td>\n",
       "      <td>61.247000</td>\n",
       "    </tr>\n",
       "    <tr>\n",
       "      <th>137</th>\n",
       "      <td>Togo</td>\n",
       "      <td>2.839</td>\n",
       "      <td>3.303</td>\n",
       "      <td>3.495</td>\n",
       "      <td>3.999</td>\n",
       "      <td>59.927000</td>\n",
       "      <td>60.220000</td>\n",
       "      <td>60.489000</td>\n",
       "      <td>60.760000</td>\n",
       "    </tr>\n",
       "  </tbody>\n",
       "</table>\n",
       "<p>130 rows × 9 columns</p>\n",
       "</div>"
      ],
      "text/plain": [
       "         Country  Happiness Score 2015  Happiness Score 2016  \\\n",
       "0    Switzerland                 7.587                 7.509   \n",
       "1        Iceland                 7.561                 7.501   \n",
       "2        Denmark                 7.527                 7.526   \n",
       "3         Norway                 7.522                 7.498   \n",
       "4         Canada                 7.427                 7.404   \n",
       "..           ...                   ...                   ...   \n",
       "133  Afghanistan                 3.575                 3.360   \n",
       "134       Rwanda                 3.465                 3.515   \n",
       "135        Benin                 3.340                 3.484   \n",
       "136      Burundi                 2.905                 2.905   \n",
       "137         Togo                 2.839                 3.303   \n",
       "\n",
       "     Happiness Score 2017  Happiness Score 2018  Life Expectancy 2015  \\\n",
       "0                   7.494                 7.487             82.897561   \n",
       "1                   7.504                 7.495             82.468293   \n",
       "2                   7.522                 7.555             80.702439   \n",
       "3                   7.537                 7.594             82.304878   \n",
       "4                   7.316                 7.328             81.900000   \n",
       "..                    ...                   ...                   ...   \n",
       "133                 3.794                 3.632             63.377000   \n",
       "134                 3.471                 3.408             67.450000   \n",
       "135                 3.657                 4.141             60.608000   \n",
       "136                 2.905                 2.905             60.123000   \n",
       "137                 3.495                 3.999             59.927000   \n",
       "\n",
       "     Life Expectancy 2016  Life Expectancy 2017  Life Expectancy 2018  \n",
       "0               83.602439             83.551220             83.753659  \n",
       "1               82.204878             82.660976             82.860976  \n",
       "2               80.853659             81.102439             80.953659  \n",
       "3               82.407317             82.609756             82.758537  \n",
       "4               81.900000             81.948780             81.948780  \n",
       "..                    ...                   ...                   ...  \n",
       "133             63.763000             64.130000             64.486000  \n",
       "134             67.930000             68.341000             68.700000  \n",
       "135             60.885000             61.174000             61.470000  \n",
       "136             60.528000             60.898000             61.247000  \n",
       "137             60.220000             60.489000             60.760000  \n",
       "\n",
       "[130 rows x 9 columns]"
      ]
     },
     "execution_count": 11,
     "metadata": {},
     "output_type": "execute_result"
    }
   ],
   "source": [
    "happ_life = pd.merge(happiness20158, life2018, on = \"Country\", how = \"inner\")\n",
    "happ_life = happ_life.dropna()\n",
    "happ_life = happ_life.rename(columns={\"2015\":\"Life Expectancy 2015\",\n",
    "                                     \"2016\":\"Life Expectancy 2016\",\n",
    "                                     \"2017\":\"Life Expectancy 2017\",\n",
    "                                     \"2018\":\"Life Expectancy 2018\"})\n",
    "happ_life"
   ]
  },
  {
   "cell_type": "code",
   "execution_count": 12,
   "metadata": {},
   "outputs": [],
   "source": [
    "happ_life.to_csv('happ_life.csv')"
   ]
  },
  {
   "cell_type": "code",
   "execution_count": 13,
   "metadata": {},
   "outputs": [
    {
     "name": "stdout",
     "output_type": "stream",
     "text": [
      "The r-square is: 0.6057301823665752\n",
      "rvalue is 0.7782866967683407\n"
     ]
    },
    {
     "data": {
      "image/png": "[encoded data removed]",
      "text/plain": [
       "<Figure size 432x288 with 1 Axes>"
      ]
     },
     "metadata": {
      "needs_background": "light"
     },
     "output_type": "display_data"
    }
   ],
   "source": [
    "#2015\n",
    "x_values = happ_life.iloc[:,5]\n",
    "y_values = happ_life.iloc[:,1]\n",
    "(slope, intercept, rvalue, pvalue, stderr) = linregress(x_values, y_values)\n",
    "regress_values = x_values * slope + intercept\n",
    "line_eq = \"y = \" + str(round(slope,2)) + \"x + \" + str(round(intercept,2))\n",
    "plt.scatter(x_values,y_values)\n",
    "plt.plot(x_values,regress_values,\"r-\")\n",
    "rval = \"R value: \" + str(round(rvalue,3))\n",
    "plt.annotate(rval,xy=(75,3),fontsize=10)\n",
    "plt.annotate(line_eq,(6,10),fontsize=15,color=\"red\")\n",
    "plt.xlabel('Life Expectancy')\n",
    "plt.ylabel('Happiness Score')\n",
    "plt.title('2015 Life Expectancy on Happiness')\n",
    "print(f\"The r-square is: {rvalue**2}\")\n",
    "print(f\"rvalue is {rvalue}\")\n",
    "plt.show()"
   ]
  },
  {
   "cell_type": "code",
   "execution_count": 14,
   "metadata": {},
   "outputs": [
    {
     "name": "stdout",
     "output_type": "stream",
     "text": [
      "The r-square is: 0.6454282410590956\n",
      "rvalue is 0.8033854872096555\n"
     ]
    },
    {
     "data": {
      "image/png": "[encoded data removed]",
      "text/plain": [
       "<Figure size 432x288 with 1 Axes>"
      ]
     },
     "metadata": {
      "needs_background": "light"
     },
     "output_type": "display_data"
    }
   ],
   "source": [
    "#2016\n",
    "x_values = happ_life.iloc[:,6]\n",
    "y_values = happ_life.iloc[:,2]\n",
    "(slope, intercept, rvalue, pvalue, stderr) = linregress(x_values, y_values)\n",
    "regress_values = x_values * slope + intercept\n",
    "line_eq = \"y = \" + str(round(slope,2)) + \"x + \" + str(round(intercept,2))\n",
    "plt.scatter(x_values,y_values)\n",
    "plt.plot(x_values,regress_values,\"r-\")\n",
    "rval = \"R value: \" + str(round(rvalue,3))\n",
    "plt.annotate(rval,xy=(75,3),fontsize=10)\n",
    "plt.annotate(line_eq,(6,10),fontsize=15,color=\"red\")\n",
    "plt.xlabel('Life Expectancy')\n",
    "plt.ylabel('Happiness Score')\n",
    "plt.title('2016 Life Expectancy on Happiness')\n",
    "print(f\"The r-square is: {rvalue**2}\")\n",
    "print(f\"rvalue is {rvalue}\")\n",
    "plt.show()"
   ]
  },
  {
   "cell_type": "code",
   "execution_count": 15,
   "metadata": {},
   "outputs": [
    {
     "name": "stdout",
     "output_type": "stream",
     "text": [
      "The r-square is: 0.6443857013200505\n",
      "rvalue is 0.8027363834535286\n"
     ]
    },
    {
     "data": {
      "image/png": "[encoded data removed]",
      "text/plain": [
       "<Figure size 432x288 with 1 Axes>"
      ]
     },
     "metadata": {
      "needs_background": "light"
     },
     "output_type": "display_data"
    }
   ],
   "source": [
    "#2017\n",
    "x_values = happ_life.iloc[:,7]\n",
    "y_values = happ_life.iloc[:,3]\n",
    "(slope, intercept, rvalue, pvalue, stderr) = linregress(x_values, y_values)\n",
    "regress_values = x_values * slope + intercept\n",
    "line_eq = \"y = \" + str(round(slope,2)) + \"x + \" + str(round(intercept,2))\n",
    "plt.scatter(x_values,y_values)\n",
    "plt.plot(x_values,regress_values,\"r-\")\n",
    "rval = \"R value: \" + str(round(rvalue,3))\n",
    "plt.annotate(rval,xy=(75,3),fontsize=10)\n",
    "plt.annotate(line_eq,(6,10),fontsize=15,color=\"red\")\n",
    "plt.xlabel('Life Expectancy')\n",
    "plt.ylabel('Happiness Score')\n",
    "plt.title('2017 Life Expectancy on Happiness')\n",
    "print(f\"The r-square is: {rvalue**2}\")\n",
    "print(f\"rvalue is {rvalue}\")\n",
    "plt.show()"
   ]
  },
  {
   "cell_type": "code",
   "execution_count": 60,
   "metadata": {},
   "outputs": [
    {
     "name": "stdout",
     "output_type": "stream",
     "text": [
      "The r-square is: 0.6186620447994028\n",
      "rvalue is 0.7865507261451119\n"
     ]
    },
    {
     "data": {
      "image/png": "[encoded data removed]",
      "text/plain": [
       "<Figure size 432x288 with 1 Axes>"
      ]
     },
     "metadata": {
      "needs_background": "light"
     },
     "output_type": "display_data"
    }
   ],
   "source": [
    "#2018\n",
    "x_values = happ_life.iloc[:,8]\n",
    "y_values = happ_life.iloc[:,4]\n",
    "(slope, intercept, rvalue, pvalue, stderr) = linregress(x_values, y_values)\n",
    "regress_values = x_values * slope + intercept\n",
    "line_eq = \"y = \" + str(round(slope,2)) + \"x + \" + str(round(intercept,2))\n",
    "plt.scatter(x_values,y_values)\n",
    "plt.plot(x_values,regress_values,\"r-\")\n",
    "rval = \"R value: \" + str(round(rvalue,3))\n",
    "plt.annotate(rval,xy=(75,3),fontsize=10)\n",
    "plt.annotate(line_eq,(6,10),fontsize=15,color=\"red\")\n",
    "plt.xlabel('Life Expectancy')\n",
    "plt.ylabel('Happiness Score')\n",
    "plt.title('2018 Life Expectancy on Happiness')\n",
    "print(f\"The r-square is: {rvalue**2}\")\n",
    "print(f\"rvalue is {rvalue}\")\n",
    "plt.show()"
   ]
  },
  {
   "cell_type": "code",
   "execution_count": 62,
   "metadata": {},
   "outputs": [
    {
     "data": {
      "text/html": [
       "<div>\n",
       "<style scoped>\n",
       "    .dataframe tbody tr th:only-of-type {\n",
       "        vertical-align: middle;\n",
       "    }\n",
       "\n",
       "    .dataframe tbody tr th {\n",
       "        vertical-align: top;\n",
       "    }\n",
       "\n",
       "    .dataframe thead th {\n",
       "        text-align: right;\n",
       "    }\n",
       "</style>\n",
       "<table border=\"1\" class=\"dataframe\">\n",
       "  <thead>\n",
       "    <tr style=\"text-align: right;\">\n",
       "      <th></th>\n",
       "      <th>Country</th>\n",
       "      <th>2015</th>\n",
       "      <th>2016</th>\n",
       "      <th>2017</th>\n",
       "      <th>2018</th>\n",
       "    </tr>\n",
       "  </thead>\n",
       "  <tbody>\n",
       "    <tr>\n",
       "      <th>0</th>\n",
       "      <td>Switzerland</td>\n",
       "      <td>82.897561</td>\n",
       "      <td>83.602439</td>\n",
       "      <td>83.551220</td>\n",
       "      <td>83.753659</td>\n",
       "    </tr>\n",
       "    <tr>\n",
       "      <th>1</th>\n",
       "      <td>Iceland</td>\n",
       "      <td>82.468293</td>\n",
       "      <td>82.204878</td>\n",
       "      <td>82.660976</td>\n",
       "      <td>82.860976</td>\n",
       "    </tr>\n",
       "    <tr>\n",
       "      <th>2</th>\n",
       "      <td>Denmark</td>\n",
       "      <td>80.702439</td>\n",
       "      <td>80.853659</td>\n",
       "      <td>81.102439</td>\n",
       "      <td>80.953659</td>\n",
       "    </tr>\n",
       "    <tr>\n",
       "      <th>3</th>\n",
       "      <td>Norway</td>\n",
       "      <td>82.304878</td>\n",
       "      <td>82.407317</td>\n",
       "      <td>82.609756</td>\n",
       "      <td>82.758537</td>\n",
       "    </tr>\n",
       "    <tr>\n",
       "      <th>4</th>\n",
       "      <td>Canada</td>\n",
       "      <td>81.900000</td>\n",
       "      <td>81.900000</td>\n",
       "      <td>81.948780</td>\n",
       "      <td>81.948780</td>\n",
       "    </tr>\n",
       "    <tr>\n",
       "      <th>5</th>\n",
       "      <td>Finland</td>\n",
       "      <td>81.480488</td>\n",
       "      <td>81.429268</td>\n",
       "      <td>81.631707</td>\n",
       "      <td>81.734146</td>\n",
       "    </tr>\n",
       "    <tr>\n",
       "      <th>6</th>\n",
       "      <td>Netherlands</td>\n",
       "      <td>81.509756</td>\n",
       "      <td>81.560976</td>\n",
       "      <td>81.760976</td>\n",
       "      <td>81.812195</td>\n",
       "    </tr>\n",
       "    <tr>\n",
       "      <th>7</th>\n",
       "      <td>Sweden</td>\n",
       "      <td>82.204878</td>\n",
       "      <td>82.307317</td>\n",
       "      <td>82.409756</td>\n",
       "      <td>82.558537</td>\n",
       "    </tr>\n",
       "    <tr>\n",
       "      <th>8</th>\n",
       "      <td>New Zealand</td>\n",
       "      <td>81.456829</td>\n",
       "      <td>81.612439</td>\n",
       "      <td>81.658537</td>\n",
       "      <td>81.858537</td>\n",
       "    </tr>\n",
       "    <tr>\n",
       "      <th>9</th>\n",
       "      <td>Australia</td>\n",
       "      <td>82.400000</td>\n",
       "      <td>82.448780</td>\n",
       "      <td>82.500000</td>\n",
       "      <td>82.748780</td>\n",
       "    </tr>\n",
       "    <tr>\n",
       "      <th>10</th>\n",
       "      <td>Israel</td>\n",
       "      <td>82.051220</td>\n",
       "      <td>82.407317</td>\n",
       "      <td>82.551220</td>\n",
       "      <td>82.802439</td>\n",
       "    </tr>\n",
       "    <tr>\n",
       "      <th>11</th>\n",
       "      <td>Costa Rica</td>\n",
       "      <td>79.565000</td>\n",
       "      <td>79.738000</td>\n",
       "      <td>79.914000</td>\n",
       "      <td>80.095000</td>\n",
       "    </tr>\n",
       "    <tr>\n",
       "      <th>12</th>\n",
       "      <td>Austria</td>\n",
       "      <td>81.190244</td>\n",
       "      <td>81.641463</td>\n",
       "      <td>81.643902</td>\n",
       "      <td>81.692683</td>\n",
       "    </tr>\n",
       "    <tr>\n",
       "      <th>13</th>\n",
       "      <td>Mexico</td>\n",
       "      <td>74.904000</td>\n",
       "      <td>74.917000</td>\n",
       "      <td>74.947000</td>\n",
       "      <td>74.992000</td>\n",
       "    </tr>\n",
       "    <tr>\n",
       "      <th>14</th>\n",
       "      <td>United States</td>\n",
       "      <td>78.690244</td>\n",
       "      <td>78.539024</td>\n",
       "      <td>78.539024</td>\n",
       "      <td>78.539024</td>\n",
       "    </tr>\n",
       "    <tr>\n",
       "      <th>15</th>\n",
       "      <td>Brazil</td>\n",
       "      <td>74.994000</td>\n",
       "      <td>75.230000</td>\n",
       "      <td>75.456000</td>\n",
       "      <td>75.672000</td>\n",
       "    </tr>\n",
       "    <tr>\n",
       "      <th>16</th>\n",
       "      <td>Luxembourg</td>\n",
       "      <td>82.292683</td>\n",
       "      <td>82.685366</td>\n",
       "      <td>82.095122</td>\n",
       "      <td>82.295122</td>\n",
       "    </tr>\n",
       "    <tr>\n",
       "      <th>17</th>\n",
       "      <td>Ireland</td>\n",
       "      <td>81.453659</td>\n",
       "      <td>81.653659</td>\n",
       "      <td>82.156098</td>\n",
       "      <td>82.256098</td>\n",
       "    </tr>\n",
       "    <tr>\n",
       "      <th>18</th>\n",
       "      <td>Belgium</td>\n",
       "      <td>80.992683</td>\n",
       "      <td>81.439024</td>\n",
       "      <td>81.492683</td>\n",
       "      <td>81.595122</td>\n",
       "    </tr>\n",
       "    <tr>\n",
       "      <th>19</th>\n",
       "      <td>United Arab Emirates</td>\n",
       "      <td>77.285000</td>\n",
       "      <td>77.470000</td>\n",
       "      <td>77.647000</td>\n",
       "      <td>77.814000</td>\n",
       "    </tr>\n",
       "  </tbody>\n",
       "</table>\n",
       "</div>"
      ],
      "text/plain": [
       "                 Country       2015       2016       2017       2018\n",
       "0            Switzerland  82.897561  83.602439  83.551220  83.753659\n",
       "1                Iceland  82.468293  82.204878  82.660976  82.860976\n",
       "2                Denmark  80.702439  80.853659  81.102439  80.953659\n",
       "3                 Norway  82.304878  82.407317  82.609756  82.758537\n",
       "4                 Canada  81.900000  81.900000  81.948780  81.948780\n",
       "5                Finland  81.480488  81.429268  81.631707  81.734146\n",
       "6            Netherlands  81.509756  81.560976  81.760976  81.812195\n",
       "7                 Sweden  82.204878  82.307317  82.409756  82.558537\n",
       "8            New Zealand  81.456829  81.612439  81.658537  81.858537\n",
       "9              Australia  82.400000  82.448780  82.500000  82.748780\n",
       "10                Israel  82.051220  82.407317  82.551220  82.802439\n",
       "11            Costa Rica  79.565000  79.738000  79.914000  80.095000\n",
       "12               Austria  81.190244  81.641463  81.643902  81.692683\n",
       "13                Mexico  74.904000  74.917000  74.947000  74.992000\n",
       "14         United States  78.690244  78.539024  78.539024  78.539024\n",
       "15                Brazil  74.994000  75.230000  75.456000  75.672000\n",
       "16            Luxembourg  82.292683  82.685366  82.095122  82.295122\n",
       "17               Ireland  81.453659  81.653659  82.156098  82.256098\n",
       "18               Belgium  80.992683  81.439024  81.492683  81.595122\n",
       "19  United Arab Emirates  77.285000  77.470000  77.647000  77.814000"
      ]
     },
     "execution_count": 62,
     "metadata": {},
     "output_type": "execute_result"
    }
   ],
   "source": [
    "filter_life = happ_life[[\"Country\",\"Life Expectancy 2015\",\"Life Expectancy 2016\",\"Life Expectancy 2017\",\"Life Expectancy 2018\"]]\n",
    "filter_life = filter_life.rename(columns={\"Life Expectancy 2015\":\"2015\",\"Life Expectancy 2016\":\"2016\",\"Life Expectancy 2017\":\"2017\",\"Life Expectancy 2018\":\"2018\"})\n",
    "filter_life.head(20)"
   ]
  },
  {
   "cell_type": "code",
   "execution_count": 18,
   "metadata": {},
   "outputs": [
    {
     "data": {
      "text/plain": [
       "2015    72.722906\n",
       "2016    73.010358\n",
       "2017    73.226302\n",
       "2018    73.435734\n",
       "dtype: float64"
      ]
     },
     "execution_count": 18,
     "metadata": {},
     "output_type": "execute_result"
    }
   ],
   "source": [
    "average_life = filter_life.mean()\n",
    "years_life_avg = average_life.keys()\n",
    "\n",
    "average_life"
   ]
  },
  {
   "cell_type": "code",
   "execution_count": 19,
   "metadata": {},
   "outputs": [
    {
     "data": {
      "text/plain": [
       "2015    74.487744\n",
       "2016    74.685866\n",
       "2017    74.844317\n",
       "2018    74.977707\n",
       "dtype: float64"
      ]
     },
     "execution_count": 19,
     "metadata": {},
     "output_type": "execute_result"
    }
   ],
   "source": [
    "median_life = filter_life.median()\n",
    "years_life_med = median_life.keys()\n",
    "\n",
    "median_life"
   ]
  },
  {
   "cell_type": "code",
   "execution_count": 20,
   "metadata": {},
   "outputs": [
    {
     "data": {
      "image/png": "[encoded data removed]",
      "text/plain": [
       "<Figure size 432x288 with 1 Axes>"
      ]
     },
     "metadata": {
      "needs_background": "light"
     },
     "output_type": "display_data"
    }
   ],
   "source": [
    "life_avg, = plt.plot(years_life_avg, average_life, color=\"blue\", label=\"Life Expectancy Average\", marker=\"o\")\n",
    "life_med, = plt.plot(years_life_med, median_life, color=\"green\", label=\"Life Expectancy Median\", marker=\"o\")\n",
    "plt.title(\"2015-2018 Mean/Median Life Expectancy\")\n",
    "\n",
    "plt.legend(handles=[life_avg,life_med], loc=\"best\")\n",
    "plt.show()"
   ]
  },
  {
   "cell_type": "code",
   "execution_count": 21,
   "metadata": {},
   "outputs": [
    {
     "data": {
      "text/plain": [
       "0.009801967705392099"
      ]
     },
     "execution_count": 21,
     "metadata": {},
     "output_type": "execute_result"
    }
   ],
   "source": [
    "mean_growth = (filter_life[\"2018\"].mean()-filter_life[\"2015\"].mean())/filter_life[\"2015\"].mean()\n",
    "mean_growth"
   ]
  },
  {
   "cell_type": "code",
   "execution_count": 22,
   "metadata": {},
   "outputs": [
    {
     "data": {
      "text/plain": [
       "0.006577772252812256"
      ]
     },
     "execution_count": 22,
     "metadata": {},
     "output_type": "execute_result"
    }
   ],
   "source": [
    "med_growth = (filter_life[\"2018\"].median()-filter_life[\"2015\"].median())/filter_life[\"2015\"].median()\n",
    "med_growth"
   ]
  },
  {
   "cell_type": "code",
   "execution_count": 23,
   "metadata": {},
   "outputs": [
    {
     "data": {
      "text/plain": [
       "<bound method IndexOpsMixin.value_counts of 0      82.897561\n",
       "1      82.468293\n",
       "2      80.702439\n",
       "3      82.304878\n",
       "4      81.900000\n",
       "         ...    \n",
       "133    63.377000\n",
       "134    67.450000\n",
       "135    60.608000\n",
       "136    60.123000\n",
       "137    59.927000\n",
       "Name: Life Expectancy 2015, Length: 130, dtype: float64>"
      ]
     },
     "execution_count": 23,
     "metadata": {},
     "output_type": "execute_result"
    }
   ],
   "source": [
    "happ_life[\"Life Expectancy 2015\"].value_counts"
   ]
  },
  {
   "cell_type": "code",
   "execution_count": 45,
   "metadata": {},
   "outputs": [
    {
     "data": {
      "text/html": [
       "<div>\n",
       "<style scoped>\n",
       "    .dataframe tbody tr th:only-of-type {\n",
       "        vertical-align: middle;\n",
       "    }\n",
       "\n",
       "    .dataframe tbody tr th {\n",
       "        vertical-align: top;\n",
       "    }\n",
       "\n",
       "    .dataframe thead th {\n",
       "        text-align: right;\n",
       "    }\n",
       "</style>\n",
       "<table border=\"1\" class=\"dataframe\">\n",
       "  <thead>\n",
       "    <tr style=\"text-align: right;\">\n",
       "      <th></th>\n",
       "      <th>2018</th>\n",
       "    </tr>\n",
       "    <tr>\n",
       "      <th>Country</th>\n",
       "      <th></th>\n",
       "    </tr>\n",
       "  </thead>\n",
       "  <tbody>\n",
       "    <tr>\n",
       "      <th>Switzerland</th>\n",
       "      <td>83.753659</td>\n",
       "    </tr>\n",
       "    <tr>\n",
       "      <th>Iceland</th>\n",
       "      <td>82.860976</td>\n",
       "    </tr>\n",
       "    <tr>\n",
       "      <th>Denmark</th>\n",
       "      <td>80.953659</td>\n",
       "    </tr>\n",
       "    <tr>\n",
       "      <th>Norway</th>\n",
       "      <td>82.758537</td>\n",
       "    </tr>\n",
       "    <tr>\n",
       "      <th>Canada</th>\n",
       "      <td>81.948780</td>\n",
       "    </tr>\n",
       "  </tbody>\n",
       "</table>\n",
       "</div>"
      ],
      "text/plain": [
       "                  2018\n",
       "Country               \n",
       "Switzerland  83.753659\n",
       "Iceland      82.860976\n",
       "Denmark      80.953659\n",
       "Norway       82.758537\n",
       "Canada       81.948780"
      ]
     },
     "execution_count": 45,
     "metadata": {},
     "output_type": "execute_result"
    }
   ],
   "source": [
    "life_top5 = filter_life[[\"Country\",\"2018\"]].head()\n",
    "life_top5 = life_top5.set_index([\"Country\"])\n",
    "life_top5"
   ]
  },
  {
   "cell_type": "code",
   "execution_count": 56,
   "metadata": {},
   "outputs": [
    {
     "data": {
      "image/png": "[encoded data removed]",
      "text/plain": [
       "<Figure size 432x288 with 1 Axes>"
      ]
     },
     "metadata": {
      "needs_background": "light"
     },
     "output_type": "display_data"
    }
   ],
   "source": [
    "life_top5.plot(kind=\"bar\",color='#0072BD',title = \"Top 5 Life Expectancy\")\n",
    "plt.legend(loc=\"best\")\n",
    "plt.show()"
   ]
  },
  {
   "cell_type": "code",
   "execution_count": 57,
   "metadata": {},
   "outputs": [
    {
     "data": {
      "text/html": [
       "<div>\n",
       "<style scoped>\n",
       "    .dataframe tbody tr th:only-of-type {\n",
       "        vertical-align: middle;\n",
       "    }\n",
       "\n",
       "    .dataframe tbody tr th {\n",
       "        vertical-align: top;\n",
       "    }\n",
       "\n",
       "    .dataframe thead th {\n",
       "        text-align: right;\n",
       "    }\n",
       "</style>\n",
       "<table border=\"1\" class=\"dataframe\">\n",
       "  <thead>\n",
       "    <tr style=\"text-align: right;\">\n",
       "      <th></th>\n",
       "      <th>2018</th>\n",
       "    </tr>\n",
       "    <tr>\n",
       "      <th>Country</th>\n",
       "      <th></th>\n",
       "    </tr>\n",
       "  </thead>\n",
       "  <tbody>\n",
       "    <tr>\n",
       "      <th>Afghanistan</th>\n",
       "      <td>64.486</td>\n",
       "    </tr>\n",
       "    <tr>\n",
       "      <th>Rwanda</th>\n",
       "      <td>68.700</td>\n",
       "    </tr>\n",
       "    <tr>\n",
       "      <th>Benin</th>\n",
       "      <td>61.470</td>\n",
       "    </tr>\n",
       "    <tr>\n",
       "      <th>Burundi</th>\n",
       "      <td>61.247</td>\n",
       "    </tr>\n",
       "    <tr>\n",
       "      <th>Togo</th>\n",
       "      <td>60.760</td>\n",
       "    </tr>\n",
       "  </tbody>\n",
       "</table>\n",
       "</div>"
      ],
      "text/plain": [
       "               2018\n",
       "Country            \n",
       "Afghanistan  64.486\n",
       "Rwanda       68.700\n",
       "Benin        61.470\n",
       "Burundi      61.247\n",
       "Togo         60.760"
      ]
     },
     "execution_count": 57,
     "metadata": {},
     "output_type": "execute_result"
    }
   ],
   "source": [
    "life_bottom5 = filter_life[[\"Country\",\"2018\"]].tail()\n",
    "life_bottom5 = life_bottom5.set_index([\"Country\"])\n",
    "life_bottom5"
   ]
  },
  {
   "cell_type": "code",
   "execution_count": 58,
   "metadata": {},
   "outputs": [
    {
     "data": {
      "image/png": "[encoded data removed]",
      "text/plain": [
       "<Figure size 432x288 with 1 Axes>"
      ]
     },
     "metadata": {
      "needs_background": "light"
     },
     "output_type": "display_data"
    }
   ],
   "source": [
    "life_bottom5.plot(kind=\"bar\",color='#0072BD',title = \"Bottom 5 Life Expectancy\")\n",
    "plt.legend(loc=\"best\")\n",
    "plt.show()"
   ]
  },
  {
   "cell_type": "code",
   "execution_count": null,
   "metadata": {},
   "outputs": [],
   "source": []
  }
 ],
 "metadata": {
  "kernelspec": {
   "display_name": "Python 3",
   "language": "python",
   "name": "python3"
  },
  "language_info": {
   "codemirror_mode": {
    "name": "ipython",
    "version": 3
   },
   "file_extension": ".py",
   "mimetype": "text/x-python",
   "name": "python",
   "nbconvert_exporter": "python",
   "pygments_lexer": "ipython3",
   "version": "3.7.6"
  }
 },
 "nbformat": 4,
 "nbformat_minor": 4
}
